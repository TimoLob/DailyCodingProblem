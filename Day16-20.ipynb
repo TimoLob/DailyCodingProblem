{
 "cells": [
  {
   "cell_type": "markdown",
   "metadata": {},
   "source": [
    "### Problem 16 - Easy\n",
    "This problem was asked by Twitter.\n",
    "\n",
    "You run an e-commerce website and want to record the last N order ids in a log. Implement a data structure to accomplish this, with the following API:\n",
    "\n",
    "    record(order_id): adds the order_id to the log\n",
    "    get_last(i): gets the ith last element from the log. i is guaranteed to be smaller than or equal to N.\n",
    "\n",
    "You should be as efficient with time and space as possible."
   ]
  },
  {
   "cell_type": "code",
   "execution_count": 1,
   "metadata": {},
   "outputs": [],
   "source": [
    "class Log:\n",
    "    def __init__(self,N):\n",
    "        self.N = N\n",
    "        self.log = dict()\n",
    "        self.numElements = 0\n",
    "    \n",
    "    def get_last(self,i):\n",
    "        return self.log[i]\n",
    "\n",
    "    def record(self,order_id):\n",
    "        self.log[order_id] = 1\n",
    "        self.numElements += 1"
   ]
  },
  {
   "cell_type": "code",
   "execution_count": 2,
   "metadata": {},
   "outputs": [],
   "source": [
    "log = Log(50)"
   ]
  },
  {
   "cell_type": "code",
   "execution_count": 3,
   "metadata": {},
   "outputs": [],
   "source": [
    "log.record(5)"
   ]
  },
  {
   "cell_type": "code",
   "execution_count": 4,
   "metadata": {},
   "outputs": [],
   "source": [
    "log.get_last(5)"
   ]
  },
  {
   "cell_type": "markdown",
   "metadata": {},
   "source": [
    "### Problem 17 - Hard\n",
    "This problem was asked by Google.\n",
    "\n",
    "Suppose we represent our file system by a string in the following manner:\n",
    "\n",
    "The string \"dir\\n\\tsubdir1\\n\\tsubdir2\\n\\t\\tfile.ext\" represents:"
   ]
  },
  {
   "cell_type": "raw",
   "metadata": {},
   "source": [
    "dir\n",
    "    subdir1\n",
    "    subdir2\n",
    "        file.ext"
   ]
  },
  {
   "cell_type": "markdown",
   "metadata": {},
   "source": [
    "The directory dir contains an empty sub-directory subdir1 and a sub-directory subdir2 containing a file file.ext.\n",
    "\n",
    "The string \"dir\\n\\tsubdir1\\n\\t\\tfile1.ext\\n\\t\\tsubsubdir1\\n\\tsubdir2\\n\\t\\tsubsubdir2\\n\\t\\t\\tfile2.ext\" represents:"
   ]
  },
  {
   "cell_type": "raw",
   "metadata": {},
   "source": [
    "dir\n",
    "    subdir1\n",
    "        file1.ext\n",
    "        subsubdir1\n",
    "    subdir2\n",
    "        subsubdir2\n",
    "            file2.ext"
   ]
  },
  {
   "cell_type": "markdown",
   "metadata": {},
   "source": [
    "The directory dir contains two sub-directories subdir1 and subdir2. subdir1 contains a file file1.ext and an empty second-level sub-directory subsubdir1. subdir2 contains a second-level sub-directory subsubdir2 containing a file file2.ext.\n",
    "\n",
    "We are interested in finding the longest (number of characters) absolute path to a file within our file system. For example, in the second example above, the longest absolute path is \"dir/subdir2/subsubdir2/file2.ext\", and its length is 32 (not including the double quotes).\n",
    "\n",
    "Given a string representing the file system in the above format, return the length of the longest absolute path to a file in the abstracted file system. If there is no file in the system, return 0.\n",
    "\n",
    "Note:\n",
    "\n",
    "The name of a file contains at least a period and an extension.\n",
    "\n",
    "The name of a directory or sub-directory will not contain a period."
   ]
  },
  {
   "cell_type": "code",
   "execution_count": 52,
   "metadata": {},
   "outputs": [],
   "source": [
    "class Node:\n",
    "    def __init__(self,name):\n",
    "        self.children = []\n",
    "        self.name = name\n",
    "        \n",
    "    def __repr__(self):\n",
    "        return self.name + \" \"+str(len(self.children))\n",
    "        "
   ]
  },
  {
   "cell_type": "code",
   "execution_count": 53,
   "metadata": {},
   "outputs": [],
   "source": [
    "string = \"dir\\n\\tsubdir1\\n\\tsubdir2\\n\\t\\tfile.ext\" "
   ]
  },
  {
   "cell_type": "code",
   "execution_count": 54,
   "metadata": {},
   "outputs": [
    {
     "name": "stdout",
     "output_type": "stream",
     "text": [
      "['dir', '\\tsubdir1', '\\tsubdir2', '\\t\\tfile.ext']\n"
     ]
    }
   ],
   "source": [
    "split = string.split(\"\\n\")\n",
    "print(split)"
   ]
  },
  {
   "cell_type": "code",
   "execution_count": 55,
   "metadata": {},
   "outputs": [
    {
     "name": "stdout",
     "output_type": "stream",
     "text": [
      "['dir', '\\tsubdir1', '\\t\\tfile1.ext', '\\t\\tsubsubdir1', '\\tsubdir2', '\\t\\tsubsubdir2', '\\t\\t\\tfile2.ext']\n"
     ]
    }
   ],
   "source": [
    "string = \"dir\\n\\tsubdir1\\n\\t\\tfile1.ext\\n\\t\\tsubsubdir1\\n\\tsubdir2\\n\\t\\tsubsubdir2\\n\\t\\t\\tfile2.ext\"\n",
    "split = string.split(\"\\n\")\n",
    "print(split)"
   ]
  },
  {
   "cell_type": "code",
   "execution_count": 66,
   "metadata": {},
   "outputs": [],
   "source": [
    "def buildTree(string):\n",
    "    print(string)\n",
    "    split = string.split(\"\\n\")\n",
    "    root = Node(split[0])\n",
    "    split = split[1:]\n",
    "    for index,x in enumerate(split):\n",
    "        if x.startswith(\"\\t\") and not x.startswith(\"\\t\\t\"):\n",
    "            substrsplit = []\n",
    "            nextroot = split[index].replace(\"\\t\",\"\")\n",
    "            for i in range(index+1,len(split)):\n",
    "                if split[i].startswith(\"\\t\\t\"):\n",
    "                    substrsplit.append(split[i])\n",
    "                else:\n",
    "                    break\n",
    "            substr = nextroot\n",
    "            for string in substrsplit:\n",
    "                substr+=\"\\n\"+string.replace(\"\\t\",\"\",1)\n",
    "            root.children.append(buildTree(substr))\n",
    "    return root\n"
   ]
  },
  {
   "cell_type": "code",
   "execution_count": 67,
   "metadata": {},
   "outputs": [
    {
     "name": "stdout",
     "output_type": "stream",
     "text": [
      "dir\n",
      "\tsubdir1\n",
      "\t\tfile1.ext\n",
      "\t\tsubsubdir1\n",
      "\tsubdir2\n",
      "\t\tsubsubdir2\n",
      "\t\t\tfile2.ext\n",
      "subdir1\n",
      "\tfile1.ext\n",
      "\tsubsubdir1\n",
      "file1.ext\n",
      "subsubdir1\n",
      "subdir2\n",
      "\tsubsubdir2\n",
      "\t\tfile2.ext\n",
      "subsubdir2\n",
      "\tfile2.ext\n",
      "file2.ext\n"
     ]
    }
   ],
   "source": [
    "root = buildTree(string)"
   ]
  },
  {
   "cell_type": "code",
   "execution_count": 68,
   "metadata": {},
   "outputs": [],
   "source": [
    "def printTree(root,tabs):\n",
    "    print(\"\\t\"*tabs+root.name)\n",
    "    for child in root.children:\n",
    "        printTree(child,tabs+1)"
   ]
  },
  {
   "cell_type": "code",
   "execution_count": 69,
   "metadata": {},
   "outputs": [
    {
     "name": "stdout",
     "output_type": "stream",
     "text": [
      "dir\n",
      "\tsubdir1\n",
      "\t\tfile1.ext\n",
      "\t\tsubsubdir1\n",
      "\tsubdir2\n",
      "\t\tsubsubdir2\n",
      "\t\t\tfile2.ext\n"
     ]
    }
   ],
   "source": [
    "printTree(root,0)"
   ]
  },
  {
   "cell_type": "markdown",
   "metadata": {},
   "source": [
    "#### TODO : COUNT PATH CHARACTERS TO FILES"
   ]
  },
  {
   "cell_type": "markdown",
   "metadata": {},
   "source": [
    "### Problem 18 - Hard\n",
    "This problem was asked by Google.\n",
    "\n",
    "Given an array of integers and a number k, where 1 <= k <= length of the array, compute the maximum values of each subarray of length k.\n",
    "\n",
    "For example, given array = [10, 5, 2, 7, 8, 7] and k = 3, we should get: [10, 7, 8, 8], since:\n",
    "\n",
    "    10 = max(10, 5, 2)\n",
    "    7 = max(5, 2, 7)\n",
    "    8 = max(2, 7, 8)\n",
    "    8 = max(7, 8, 7)\n",
    "\n",
    "Do this in O(n) time and O(k) space. You can modify the input array in-place and you do not need to store the results. You can simply print them out as you compute them."
   ]
  },
  {
   "cell_type": "code",
   "execution_count": 21,
   "metadata": {},
   "outputs": [],
   "source": [
    "def func(array,k):\n",
    "    \n",
    "    \n",
    "    maxInd = 0\n",
    "    maxlastk_1 = array[1]\n",
    "    for x in array[2:k]:\n",
    "        maxlastk_1 = max(maxlastk_1,x)\n",
    "    \n",
    "    \n",
    "    \n",
    "    print(max(array[0],maxlastk_1))\n",
    "    \n",
    "    array[1]=maxlastk_1\n",
    "    \n",
    "    index = 1\n",
    "    while index<len(array)-k+1:\n",
    "        \n",
    "        maxVal = max(maxlastk_1,array[index+k-1])\n",
    "        print(maxVal)\n",
    "        array[index+1]=maxlastk_1\n",
    "        index+=1\n"
   ]
  },
  {
   "cell_type": "code",
   "execution_count": 22,
   "metadata": {},
   "outputs": [
    {
     "name": "stdout",
     "output_type": "stream",
     "text": [
      "10\n",
      "7\n",
      "8\n",
      "7\n",
      "5\n",
      "5\n",
      "5\n"
     ]
    }
   ],
   "source": [
    "func([10, 5, 2, 7, 8, 7,1,1,1],3)"
   ]
  },
  {
   "cell_type": "markdown",
   "metadata": {},
   "source": [
    "### Problem 19 - Medium\n",
    "This problem was asked by Facebook.\n",
    "\n",
    "A builder is looking to build a row of N houses that can be of K different colors. He has a goal of minimizing cost while ensuring that no two neighboring houses are of the same color.\n",
    "\n",
    "Given an N by K matrix where the nth row and kth column represents the cost to build the nth house with kth color, return the minimum cost which achieves this goal."
   ]
  },
  {
   "cell_type": "code",
   "execution_count": null,
   "metadata": {},
   "outputs": [],
   "source": []
  },
  {
   "cell_type": "markdown",
   "metadata": {},
   "source": [
    "### Problem 20 - Easy\n",
    "This problem was asked by Google.\n",
    "\n",
    "Given two singly linked lists that intersect at some point, find the intersecting node. The lists are non-cyclical.\n",
    "\n",
    "For example, given A = 3 -> 7 -> 8 -> 10 and B = 99 -> 1 -> 8 -> 10, return the node with value 8.\n",
    "\n",
    "In this example, assume nodes with the same value are the exact same node objects.\n",
    "\n",
    "Do this in O(M + N) time (where M and N are the lengths of the lists) and constant space."
   ]
  },
  {
   "cell_type": "code",
   "execution_count": 8,
   "metadata": {},
   "outputs": [],
   "source": [
    "class Node:\n",
    "    def __init__(self,val):\n",
    "        self.value = val\n",
    "        self.next = None\n",
    "        \n",
    "def addToList(node,val):\n",
    "    if node.next == None:\n",
    "        node.next = Node(val)\n",
    "    else:\n",
    "        addToList(node.next,val)\n",
    "        \n",
    "def printList(node):\n",
    "    print(node.value)\n",
    "    if node.next:\n",
    "        printList(node.next)"
   ]
  },
  {
   "cell_type": "code",
   "execution_count": 28,
   "metadata": {},
   "outputs": [],
   "source": [
    "list1 = [3,7,8,10]\n",
    "linkedlist1 = Node(3)\n",
    "for x in list1[1:]:\n",
    "    addToList(linkedlist1,x)\n",
    "    \n",
    "list2 = [99,1,8,10]\n",
    "linkedlist2 = Node(99)\n",
    "for x in list2[1:]:\n",
    "    addToList(linkedlist2,x)\n"
   ]
  },
  {
   "cell_type": "code",
   "execution_count": 33,
   "metadata": {},
   "outputs": [],
   "source": [
    "#printList(linkedlist1)\n",
    "#printList(linkedlist2)"
   ]
  },
  {
   "cell_type": "code",
   "execution_count": 30,
   "metadata": {},
   "outputs": [],
   "source": [
    "def getLen(node):\n",
    "    length = 1\n",
    "    while node.next:\n",
    "        length+=1\n",
    "        node = node.next\n",
    "    return length\n",
    "\n",
    "def findIntersection(list1,list2):\n",
    "    l1 = getLen(list1)\n",
    "    l2 = getLen(list2)\n",
    "    \n",
    "    longerList = None\n",
    "    shorterList = None\n",
    "    if l1>=l2:\n",
    "        longerList = list1\n",
    "        shorterList = list2\n",
    "    else:\n",
    "        longerList = list2\n",
    "        shorterList = list1\n",
    "    \n",
    "    dif = abs(l1-l2)\n",
    "    for _ in range(dif):\n",
    "        longerList = longerList.next\n",
    "        \n",
    "    while longerList:\n",
    "        if longerList.value == shorterList.value:\n",
    "            return longerList\n",
    "        longerList = longerList.next\n",
    "        shorterList = shorterList.next\n",
    "        \n",
    "    return None"
   ]
  },
  {
   "cell_type": "code",
   "execution_count": 32,
   "metadata": {},
   "outputs": [],
   "source": [
    "assert(findIntersection(linkedlist1,linkedlist2).value==8)\n"
   ]
  }
 ],
 "metadata": {
  "kernelspec": {
   "display_name": "Python 3",
   "language": "python",
   "name": "python3"
  },
  "language_info": {
   "codemirror_mode": {
    "name": "ipython",
    "version": 3
   },
   "file_extension": ".py",
   "mimetype": "text/x-python",
   "name": "python",
   "nbconvert_exporter": "python",
   "pygments_lexer": "ipython3",
   "version": "3.7.0"
  }
 },
 "nbformat": 4,
 "nbformat_minor": 2
}
