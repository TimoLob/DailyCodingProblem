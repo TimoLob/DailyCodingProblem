{
 "cells": [
  {
   "cell_type": "markdown",
   "metadata": {},
   "source": [
    "This Jupyter Notebook contains my solution to the coding problem from https://www.dailycodingproblem.com/"
   ]
  },
  {
   "cell_type": "markdown",
   "metadata": {},
   "source": [
    "### Problem 1 - Easy\n",
    "\n",
    "This problem was recently asked by Google.\n",
    "\n",
    "Given a list of numbers and a number k, return whether any two numbers from the list add up to k.\n",
    "\n",
    "For example, given [10, 15, 3, 7] and k of 17, return true since 10 + 7 is 17.\n",
    "\n",
    "Bonus: Can you do this in one pass?"
   ]
  },
  {
   "cell_type": "markdown",
   "metadata": {},
   "source": [
    "#### Solution:\n",
    "Go through the array one time. Every iteration add the number(x) to a hash set. If k-x is already in this hash set, return True because we found two numbers(x,k-x) that add up to k.\n",
    "Runtime: O(n)\n",
    "\n"
   ]
  },
  {
   "cell_type": "code",
   "execution_count": 2,
   "metadata": {},
   "outputs": [
    {
     "data": {
      "text/plain": [
       "True"
      ]
     },
     "execution_count": 2,
     "metadata": {},
     "output_type": "execute_result"
    }
   ],
   "source": [
    "def func(array,k):\n",
    "    numbers = set()\n",
    "    for x in array:\n",
    "        if (k-x) in numbers:\n",
    "            return True\n",
    "        numbers.add(x)\n",
    "    return False\n",
    "\n",
    "func([10,15,3,7],17)"
   ]
  },
  {
   "cell_type": "markdown",
   "metadata": {},
   "source": [
    "### Problem 2 - Hard\n",
    "\n",
    "This problem was asked by Uber.\n",
    "\n",
    "Given an array of integers, return a new array such that each element at index i of the new array is the product of all the numbers in the original array except the one at i.\n",
    "\n",
    "For example, if our input was [1, 2, 3, 4, 5], the expected output would be [120, 60, 40, 30, 24]. If our input was [3, 2, 1], the expected output would be [2, 3, 6].\n",
    "\n",
    "Follow-up: what if you can't use division?"
   ]
  },
  {
   "cell_type": "markdown",
   "metadata": {},
   "source": [
    "#### With Division\n",
    "1. Calculate the Product of all the elements in the array\n",
    "2. Divide that product by each element in the array\n",
    "\n",
    "Runtime: O(n), we need to iterate through the array 2 times"
   ]
  },
  {
   "cell_type": "code",
   "execution_count": 16,
   "metadata": {},
   "outputs": [
    {
     "name": "stdout",
     "output_type": "stream",
     "text": [
      "[120.0, 60.0, 40.0, 30.0, 24.0]\n",
      "[2.0, 3.0, 6.0]\n"
     ]
    }
   ],
   "source": [
    "import functools\n",
    "\n",
    "def func(array):\n",
    "    product = functools.reduce(lambda x,y : x*y,array)\n",
    "    return [product/x for x in array]\n",
    "\n",
    "print(func([1, 2, 3, 4, 5]))\n",
    "print(func([3,2,1]))\n",
    "\n",
    "# Better Solution in O(n):  \n",
    "# https://www.geeksforgeeks.org/a-product-array-puzzle/\n"
   ]
  },
  {
   "cell_type": "markdown",
   "metadata": {},
   "source": [
    "### Problem 3 - Medium\n",
    "This problem was asked by Google.\n",
    "\n",
    "Given the root to a binary tree, implement serialize(root), which serializes the tree into a string, and deserialize(s), which deserializes the string back into the tree.\n",
    "\n",
    "For example, given the following Node class"
   ]
  },
  {
   "cell_type": "code",
   "execution_count": 5,
   "metadata": {},
   "outputs": [],
   "source": [
    "class Node:\n",
    "    def __init__(self, val, left=None, right=None):\n",
    "        self.val = val\n",
    "        self.left = left\n",
    "        self.right = right"
   ]
  },
  {
   "cell_type": "code",
   "execution_count": 6,
   "metadata": {},
   "outputs": [],
   "source": [
    "# The following test should pass:\n",
    "def test():\n",
    "    node = Node('root', Node('left', Node('left.left')), Node('right'))\n",
    "    assert deserialize(serialize(node)).left.left.val == 'left.left'\n",
    "    print(\"Success\")"
   ]
  },
  {
   "cell_type": "markdown",
   "metadata": {},
   "source": [
    "My Code:  \n",
    "Traverse the tree recusively and convert the elements to a string concatenated with *_;_*\n",
    "\n",
    "To deserialize, split up the string at \";\" and use the formula 2\\*index+1 or +2 to calulate the position of the left or right children. Add children recursivly"
   ]
  },
  {
   "cell_type": "code",
   "execution_count": 10,
   "metadata": {},
   "outputs": [
    {
     "name": "stdout",
     "output_type": "stream",
     "text": [
      "Success\n"
     ]
    }
   ],
   "source": [
    "def serialize(root):\n",
    "    array = []\n",
    "    serialize_rec(root,array,0) # Convert the tree structure to an array\n",
    "    string = \"\"\n",
    "    for x in array: # put all the elements of the array into a string separated by ;\n",
    "        string += str(x)+\";\"\n",
    "    return string[:-1]\n",
    "    \n",
    "    \n",
    "\n",
    "def serialize_rec(root,array,index):\n",
    "    \n",
    "    while len(array)<=index:   # If the array is not long enough, add space\n",
    "        array.append(None)\n",
    "        \n",
    "    if root==None:             # Escape recursion if the root is None\n",
    "        array[index]=None\n",
    "        return\n",
    "    \n",
    "    \n",
    "    \n",
    "    array[index]=root.val\n",
    "    serialize_rec(root.left,array,2*index+1)  # Add the left child-tree to the array\n",
    "    serialize_rec(root.right,array,2*index+2) # Add the right child-tree to the array\n",
    "\n",
    "def deserialize(string):        # split the string into an array\n",
    "    array = string.split(\";\")\n",
    "    return addNode(array,0)     # call addNode on the root, this will add all childs recursively\n",
    "    \n",
    "    \n",
    "def addNode(array,index):\n",
    "    root = Node(array[index])\n",
    "    leftI = 2*index+1         # Indices of the left and right children\n",
    "    rightI = 2*index+2\n",
    "    if leftI<len(array) and array[leftI]!=\"None\":  # If they are in the array and not None, add them(and their children) to the Node\n",
    "        root.left = addNode(array,leftI)\n",
    "    if rightI<len(array) and array[rightI]!=\"None\":\n",
    "        root.right = addNode(array,rightI)\n",
    "    return root\n",
    "    \n",
    "    \n",
    "    \n",
    "test()"
   ]
  },
  {
   "cell_type": "markdown",
   "metadata": {},
   "source": [
    "### Problem 4 - Hard\n",
    "This problem was asked by Stripe.\n",
    "\n",
    "Given an array of integers, find the first missing positive integer in linear time and constant space. In other words, find the lowest positive integer that does not exist in the array. The array can contain duplicates and negative numbers as well.\n",
    "\n",
    "For example, the input [3, 4, -1, 1] should give 2. The input [1, 2, 0] should give 3.\n",
    "\n",
    "You can modify the input array in-place."
   ]
  },
  {
   "cell_type": "code",
   "execution_count": 11,
   "metadata": {},
   "outputs": [],
   "source": [
    "def test():\n",
    "    assert(func([3, 4, -1, 1])==2)\n",
    "    assert(func([1, 2, 0])==3)\n",
    "    assert(func([3, 4, -1, 1,2])==5)"
   ]
  },
  {
   "cell_type": "code",
   "execution_count": 13,
   "metadata": {},
   "outputs": [],
   "source": [
    "# First Solution using a hashset.  \n",
    "# Solution in linear time.  \n",
    "# Solution NOT in constant space\n",
    "\n",
    "def func(array):\n",
    "    integers = set()\n",
    "    for i in range(len(array)):\n",
    "        integers.add(array[i])\n",
    "    \n",
    "    \n",
    "    lowest = 1\n",
    "    for i in range(len(array)):\n",
    "        if lowest in integers:\n",
    "            lowest+=1\n",
    "        \n",
    "    return lowest\n",
    "\n",
    "test()"
   ]
  },
  {
   "cell_type": "markdown",
   "metadata": {},
   "source": [
    "### Problem 5 - Medium\n",
    "This problem was asked by Jane Street.\n",
    "\n",
    "cons(a, b) constructs a pair, and car(pair) and cdr(pair) returns the first and last element of that pair. For example, car(cons(3, 4)) returns 3, and cdr(cons(3, 4)) returns 4.\n",
    "\n",
    "Given this implementation of cons:"
   ]
  },
  {
   "cell_type": "code",
   "execution_count": 14,
   "metadata": {},
   "outputs": [],
   "source": [
    "def cons(a, b):\n",
    "    def pair(f):\n",
    "        return f(a, b)\n",
    "    return pair"
   ]
  },
  {
   "cell_type": "markdown",
   "metadata": {},
   "source": [
    "Implement car and cdr."
   ]
  },
  {
   "cell_type": "code",
   "execution_count": 15,
   "metadata": {},
   "outputs": [],
   "source": [
    "def car(pair):\n",
    "    return pair(lambda a,b:a)\n",
    "\n",
    "def cdr(pair):\n",
    "    return pair(lambda a,b:b)\n",
    "\n",
    "assert(car(cons(3, 4))==3)\n",
    "assert(cdr(cons(3, 4))==4)"
   ]
  },
  {
   "cell_type": "code",
   "execution_count": null,
   "metadata": {},
   "outputs": [],
   "source": []
  }
 ],
 "metadata": {
  "kernelspec": {
   "display_name": "Python 3",
   "language": "python",
   "name": "python3"
  },
  "language_info": {
   "codemirror_mode": {
    "name": "ipython",
    "version": 3
   },
   "file_extension": ".py",
   "mimetype": "text/x-python",
   "name": "python",
   "nbconvert_exporter": "python",
   "pygments_lexer": "ipython3",
   "version": "3.7.0"
  }
 },
 "nbformat": 4,
 "nbformat_minor": 2
}
