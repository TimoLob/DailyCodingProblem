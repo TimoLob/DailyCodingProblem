{
 "cells": [
  {
   "cell_type": "markdown",
   "metadata": {},
   "source": [
    "### Problem 41 - Medium\n",
    "This problem was asked by Facebook.\n",
    "\n",
    "Given an unordered list of flights taken by someone, each represented as (origin, destination) pairs, and a starting airport, compute the person's itinerary. If no such itinerary exists, return null. If there are multiple possible itineraries, return the lexicographically smallest one. All flights must be used in the itinerary.\n",
    "\n",
    "For example, given the list of flights [('SFO', 'HKO'), ('YYZ', 'SFO'), ('YUL', 'YYZ'), ('HKO', 'ORD')] and starting airport 'YUL', you should return the list ['YUL', 'YYZ', 'SFO', 'HKO', 'ORD'].\n",
    "\n",
    "Given the list of flights [('SFO', 'COM'), ('COM', 'YYZ')] and starting airport 'COM', you should return null.\n",
    "\n",
    "Given the list of flights [('A', 'B'), ('A', 'C'), ('B', 'C'), ('C', 'A')] and starting airport 'A', you should return the list ['A', 'B', 'C', 'A', 'C'] even though ['A', 'C', 'A', 'B', 'C'] is also a valid itinerary. However, the first one is lexicographically smaller."
   ]
  },
  {
   "cell_type": "code",
   "execution_count": 23,
   "metadata": {},
   "outputs": [],
   "source": [
    "def findPath(currentPos,flights,path):\n",
    "    if len(flights)==0:\n",
    "        path.append(currentPos)\n",
    "        return path\n",
    "    possibleNextFlights = []\n",
    "    for f in flights:\n",
    "        if f[0]==currentPos:\n",
    "            possibleNextFlights.append(f)\n",
    "    \n",
    "    # TODO:Sort PossibleNext Flights\n",
    "    \n",
    "    for f in possibleNextFlights:\n",
    "        start = f[1]\n",
    "        flights.remove(f)\n",
    "        path.append(f[0])\n",
    "        if findPath(start,flights,path):\n",
    "            return path\n",
    "        path.pop()\n",
    "        flights.append(f)\n",
    "    return None"
   ]
  },
  {
   "cell_type": "code",
   "execution_count": 24,
   "metadata": {},
   "outputs": [
    {
     "name": "stdout",
     "output_type": "stream",
     "text": [
      "['YUL', 'YYZ', 'SFO', 'HKO', 'ORD']\n",
      "['A', 'B', 'C', 'A', 'C']\n"
     ]
    }
   ],
   "source": [
    "path = []\n",
    "print(findPath(\"YUL\",[('SFO', 'HKO'), ('YYZ', 'SFO'), ('YUL', 'YYZ'), ('HKO', 'ORD')],path))\n",
    "path = []\n",
    "print(findPath(\"A\", [('A', 'B'), ('A', 'C'), ('B', 'C'), ('C', 'A')],path))"
   ]
  },
  {
   "cell_type": "markdown",
   "metadata": {},
   "source": [
    "### Problem 42 - Hard\n",
    "This problem was asked by Google.\n",
    "\n",
    "Given a list of integers S and a target number k, write a function that returns a subset of S that adds up to k. If such a subset cannot be made, then return null.\n",
    "\n",
    "Integers can appear more than once in the list. You may assume all numbers in the list are positive.\n",
    "\n",
    "For example, given S = [12, 1, 61, 5, 9, 2] and k = 24, return [12, 9, 2, 1] since it sums up to 24."
   ]
  },
  {
   "cell_type": "code",
   "execution_count": null,
   "metadata": {},
   "outputs": [],
   "source": []
  },
  {
   "cell_type": "markdown",
   "metadata": {},
   "source": [
    "### Problem 43 - Easy\n",
    "This problem was asked by Amazon.\n",
    "\n",
    "Implement a stack that has the following methods:\n",
    "\n",
    "    push(val), which pushes an element onto the stack\n",
    "    pop(), which pops off and returns the topmost element of the stack. If there are no elements in the stack, then it should throw an error or return null.\n",
    "    max(), which returns the maximum value in the stack currently. If there are no elements in the stack, then it should throw an error or return null.\n",
    "\n",
    "Each method should run in constant time."
   ]
  },
  {
   "cell_type": "markdown",
   "metadata": {},
   "source": [
    "### Problem 44 - Medium\n",
    "This problem was asked by Google.\n",
    "\n",
    "We can determine how \"out of order\" an array A is by counting the number of inversions it has. Two elements A[i] and A[j] form an inversion if A[i] > A[j] but i < j. That is, a smaller element appears after a larger element.\n",
    "\n",
    "Given an array, count the number of inversions it has. Do this faster than O(N^2) time.\n",
    "\n",
    "You may assume each element in the array is distinct.\n",
    "\n",
    "For example, a sorted list has zero inversions. The array [2, 4, 1, 3, 5] has three inversions: (2, 1), (4, 1), and (4, 3). The array [5, 4, 3, 2, 1] has ten inversions: every distinct pair forms an inversion."
   ]
  },
  {
   "cell_type": "markdown",
   "metadata": {},
   "source": [
    "### Problem 45 - Easy\n",
    "This problem was asked by Two Sigma.\n",
    "\n",
    "Using a function rand5() that returns an integer from 1 to 5 (inclusive) with uniform probability, implement a function rand7() that returns an integer from 1 to 7 (inclusive)."
   ]
  },
  {
   "cell_type": "markdown",
   "metadata": {},
   "source": [
    "### Problem 46 - Hard\n",
    "This problem was asked by Amazon.\n",
    "\n",
    "Given a string, find the longest palindromic contiguous substring. If there are more than one with the maximum length, return any one.\n",
    "\n",
    "For example, the longest palindromic substring of \"aabcdcb\" is \"bcdcb\". The longest palindromic substring of \"bananas\" is \"anana\"."
   ]
  },
  {
   "cell_type": "markdown",
   "metadata": {},
   "source": [
    "### Problem 47 - Easy\n",
    "This problem was asked by Facebook.\n",
    "\n",
    "Given a array of numbers representing the stock prices of a company in chronological order, write a function that calculates the maximum profit you could have made from buying and selling that stock once. You must buy before you can sell it.\n",
    "\n",
    "For example, given [9, 11, 8, 5, 7, 10], you should return 5, since you could buy the stock at 5 dollars and sell it at 10 dollars."
   ]
  },
  {
   "cell_type": "markdown",
   "metadata": {},
   "source": [
    "### Problem 48 - Medium\n",
    "This problem was asked by Google.\n",
    "\n",
    "Given pre-order and in-order traversals of a binary tree, write a function to reconstruct the tree.\n",
    "\n",
    "For example, given the following preorder traversal:\n",
    "\n",
    "[a, b, d, e, c, f, g]\n",
    "\n",
    "And the following inorder traversal:\n",
    "\n",
    "[d, b, e, a, f, c, g]\n",
    "\n",
    "You should return the following tree:\n",
    "    a\n",
    "   / \\\n",
    "  b   c\n",
    " / \\ / \\\n",
    "d  e f  g"
   ]
  },
  {
   "cell_type": "markdown",
   "metadata": {},
   "source": [
    "### Problem 49 - Medium\n",
    "This problem was asked by Amazon.\n",
    "\n",
    "Given an array of numbers, find the maximum sum of any contiguous subarray of the array.\n",
    "\n",
    "For example, given the array [34, -50, 42, 14, -5, 86], the maximum sum would be 137, since we would take elements 42, 14, -5, and 86.\n",
    "\n",
    "Given the array [-5, -1, -8, -9], the maximum sum would be 0, since we would not take any elements.\n",
    "\n",
    "Do this in O(N) time."
   ]
  },
  {
   "cell_type": "markdown",
   "metadata": {},
   "source": [
    "### Problem 50 - Easy\n",
    "Good morning! Here's your coding interview problem for today.\n",
    "\n",
    "This problem was asked by Microsoft.\n",
    "\n",
    "Suppose an arithmetic expression is given as a binary tree. Each leaf is an integer and each internal node is one of '+', '−', '∗', or '/'.\n",
    "\n",
    "Given the root to such a tree, write a function to evaluate it.\n",
    "\n",
    "For example, given the following tree:\n"
   ]
  },
  {
   "cell_type": "raw",
   "metadata": {},
   "source": [
    "    *\n",
    "   / \\\n",
    "  +    +\n",
    " / \\  / \\\n",
    "3  2  4  5\n",
    "\n",
    "You should return 45, as it is (3 + 2) * (4 + 5)."
   ]
  },
  {
   "cell_type": "code",
   "execution_count": 1,
   "metadata": {},
   "outputs": [],
   "source": [
    "class Node:\n",
    "    def __init__(self,val,left=None,right=None):\n",
    "        self.val = val\n",
    "        self.left = left\n",
    "        self.right = right"
   ]
  },
  {
   "cell_type": "code",
   "execution_count": 5,
   "metadata": {},
   "outputs": [],
   "source": [
    "def evalTree(root):\n",
    "    if not root:\n",
    "        return 0\n",
    "    \n",
    "    c = root.val\n",
    "    if c == \"+\":\n",
    "        return evalTree(root.left) + evalTree(root.right)\n",
    "    if c == \"-\":\n",
    "        return evalTree(root.left) - evalTree(root.right)\n",
    "    if c == \"*\":\n",
    "        return evalTree(root.left) * evalTree(root.right)\n",
    "    if c == \"/\":\n",
    "        return evalTree(root.left) / evalTree(root.right)\n",
    "    \n",
    "    return int(root.val)"
   ]
  },
  {
   "cell_type": "code",
   "execution_count": 10,
   "metadata": {},
   "outputs": [
    {
     "name": "stdout",
     "output_type": "stream",
     "text": [
      "45\n"
     ]
    }
   ],
   "source": [
    "root = Node('*',Node(\"+\",Node(3),Node(2)),Node(\"+\",Node(4),Node(5)))\n",
    "print(evalTree(root))"
   ]
  },
  {
   "cell_type": "code",
   "execution_count": null,
   "metadata": {},
   "outputs": [],
   "source": []
  }
 ],
 "metadata": {
  "kernelspec": {
   "display_name": "Python 3",
   "language": "python",
   "name": "python3"
  },
  "language_info": {
   "codemirror_mode": {
    "name": "ipython",
    "version": 3
   },
   "file_extension": ".py",
   "mimetype": "text/x-python",
   "name": "python",
   "nbconvert_exporter": "python",
   "pygments_lexer": "ipython3",
   "version": "3.7.0"
  }
 },
 "nbformat": 4,
 "nbformat_minor": 2
}
