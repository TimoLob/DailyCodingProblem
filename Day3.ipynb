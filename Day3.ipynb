{
 "cells": [
  {
   "cell_type": "markdown",
   "metadata": {},
   "source": [
    "Good morning! Here's your coding interview problem for today.\n",
    "\n",
    "This problem was asked by Google.\n",
    "\n",
    "Given the root to a binary tree, implement serialize(root), which serializes the tree into a string, and deserialize(s), which deserializes the string back into the tree.\n",
    "\n",
    "For example, given the following Node class"
   ]
  },
  {
   "cell_type": "code",
   "execution_count": 1,
   "metadata": {},
   "outputs": [],
   "source": [
    "class Node:\n",
    "    def __init__(self, val, left=None, right=None):\n",
    "        self.val = val\n",
    "        self.left = left\n",
    "        self.right = right"
   ]
  },
  {
   "cell_type": "code",
   "execution_count": 69,
   "metadata": {},
   "outputs": [],
   "source": [
    "# The following test should pass:\n",
    "def test():\n",
    "    node = Node('root', Node('left', Node('left.left')), Node('right'))\n",
    "    assert deserialize(serialize(node)).left.left.val == 'left.left'\n",
    "    print(\"Success\")"
   ]
  },
  {
   "cell_type": "markdown",
   "metadata": {},
   "source": [
    "My Code:  \n",
    "Traverse the tree recusively and convert the elements to a string concatenated with *_;_*\n",
    "\n",
    "To deserialize, split up the string at \";\" and use the formula 2\\*index+1 or +2 to calulate the position of the left or right children. Add children recursivly"
   ]
  },
  {
   "cell_type": "code",
   "execution_count": 89,
   "metadata": {},
   "outputs": [],
   "source": [
    "def serialize(root):\n",
    "    array = []\n",
    "    serialize_rec(root,array,0) # Convert the tree structure to an array\n",
    "    string = \"\"\n",
    "    for x in array: # put all the elements of the array into a string separated by ;\n",
    "        string += str(x)+\";\"\n",
    "    return string[:-1]\n",
    "    \n",
    "    \n",
    "\n",
    "def serialize_rec(root,array,index):\n",
    "    if root==None:             # Escape recursion if the root is None\n",
    "        array[index]=None\n",
    "        return\n",
    "    \n",
    "    while len(array)<=index:   # If the array is not long enough, add space\n",
    "        array.append(None)\n",
    "    \n",
    "    array[index]=root.val\n",
    "    ser2(root.left,array,2*index+1)  # Add the left child-tree to the array\n",
    "    ser2(root.right,array,2*index+2) # Add the right child-tree to the array\n",
    "\n",
    "def deserialize(string):        # split the string into an array\n",
    "    array = string.split(\";\")\n",
    "    return addNode(array,0)     # call addNode on the root, this will add all childs recursively\n",
    "    \n",
    "    \n",
    "def addNode(array,index):\n",
    "    root = Node(array[index])\n",
    "    leftI = 2*index+1         # Indices of the left and right children\n",
    "    rightI = 2*index+2\n",
    "    if leftI<len(array) and array[leftI]!=\"None\":  # If they are in the array and not None, add them(and their children) to the Node\n",
    "        root.left = addNode(array,leftI)\n",
    "    if rightI<len(array) and array[rightI]!=\"None\":\n",
    "        root.right = addNode(array,rightI)\n",
    "    return root\n",
    "    \n",
    "    \n",
    "    \n",
    " "
   ]
  },
  {
   "cell_type": "code",
   "execution_count": 86,
   "metadata": {},
   "outputs": [
    {
     "name": "stdout",
     "output_type": "stream",
     "text": [
      "Success\n"
     ]
    }
   ],
   "source": [
    "test()"
   ]
  },
  {
   "cell_type": "code",
   "execution_count": null,
   "metadata": {},
   "outputs": [],
   "source": []
  },
  {
   "cell_type": "code",
   "execution_count": null,
   "metadata": {},
   "outputs": [],
   "source": []
  }
 ],
 "metadata": {
  "kernelspec": {
   "display_name": "Python 3",
   "language": "python",
   "name": "python3"
  },
  "language_info": {
   "codemirror_mode": {
    "name": "ipython",
    "version": 3
   },
   "file_extension": ".py",
   "mimetype": "text/x-python",
   "name": "python",
   "nbconvert_exporter": "python",
   "pygments_lexer": "ipython3",
   "version": "3.7.0"
  }
 },
 "nbformat": 4,
 "nbformat_minor": 2
}
