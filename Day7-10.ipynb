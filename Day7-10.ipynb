{
 "cells": [
  {
   "cell_type": "markdown",
   "metadata": {},
   "source": [
    "Problem 6 is Day6.cpp\n",
    "\n",
    "### Problem 7 - Medium\n",
    "This problem was asked by Facebook.\n",
    "\n",
    "Given the mapping a = 1, b = 2, ... z = 26, and an encoded message, count the number of ways it can be decoded.\n",
    "\n",
    "For example, the message '111' would give 3, since it could be decoded as 'aaa', 'ka', and 'ak'.\n",
    "\n",
    "You can assume that the messages are decodable. For example, '001' is not allowed.  \n",
    "\n",
    "------\n",
    "Idea: Use a tree structure to save all possible ways of decoding the message"
   ]
  },
  {
   "cell_type": "code",
   "execution_count": 1,
   "metadata": {},
   "outputs": [],
   "source": [
    "letters = \"abcdefghijklmnopqrstuvwxyz\""
   ]
  },
  {
   "cell_type": "code",
   "execution_count": 33,
   "metadata": {},
   "outputs": [],
   "source": [
    "\"\"\"\n",
    "This method returns an array of all the possible ways to decode one character from the message\n",
    "\"\"\"\n",
    "def decode1char(message):\n",
    "    possibleMessages = []\n",
    "    for i in range(1,27):\n",
    "\n",
    "        if message.startswith(str(i)):\n",
    "            remainingMessage = message.replace(str(i),\"\",1)\n",
    "            # If after decoding, we are left with 0 as first character, this is not possible to decode this way\n",
    "            if remainingMessage.startswith(\"0\"):\n",
    "                continue\n",
    "            possibleMessages.append([letters[i-1],remainingMessage])\n",
    "            \n",
    "    return possibleMessages"
   ]
  },
  {
   "cell_type": "code",
   "execution_count": 34,
   "metadata": {},
   "outputs": [],
   "source": [
    "\"\"\"\n",
    "A nood class that helps us build the tree that stores the messages\n",
    "\"\"\"\n",
    "\n",
    "class Node:\n",
    "    def __init__(self,letter,message):\n",
    "        self.letter = letter\n",
    "        self.message = message\n",
    "        self.children = []\n",
    "        \n",
    "    def __repr__(self):\n",
    "        \n",
    "        return self.treeToString(1)\n",
    "    \n",
    "    \n",
    "    def treeToString(self,indent):\n",
    "        string = self.letter + \" \" +self.message +\"\\n\"\n",
    "        for child in self.children:\n",
    "            string += \"\\t\"*indent+child.treeToString(indent+1)\n",
    "        return string"
   ]
  },
  {
   "cell_type": "code",
   "execution_count": 35,
   "metadata": {},
   "outputs": [],
   "source": [
    "\"\"\"\n",
    "This method generates all possible ways to decode the message character by character and puts them in a tree\n",
    "\"\"\"\n",
    "\n",
    "def generateChildren(root):\n",
    "    if len(root.message)>0:\n",
    "        children = decode1char(root.message)\n",
    "        for child in children:\n",
    "            childNode = Node(child[0],child[1])\n",
    "            root.children.append(childNode)\n",
    "            generateChildren(childNode)"
   ]
  },
  {
   "cell_type": "code",
   "execution_count": 36,
   "metadata": {},
   "outputs": [],
   "source": [
    "\"\"\"\n",
    "This method generates a dummy root node and calls generate Children to generate all the possible ways to decode the message\n",
    "\"\"\"\n",
    "\n",
    "def decode(message):\n",
    "    root = Node(\".\",message)\n",
    "    generateChildren(root)\n",
    "    return root\n",
    "    "
   ]
  },
  {
   "cell_type": "code",
   "execution_count": 40,
   "metadata": {},
   "outputs": [],
   "source": [
    "\"\"\"\n",
    "The number of leaves in the tree is equal to the number of ways the message can be decoded\n",
    "\"\"\"\n",
    "\n",
    "def countLeaves(root):\n",
    "    count = 0\n",
    "    if len(root.children)==0:  # Check if this node is a leaf\n",
    "        if root.letter == \".\":  # If the dummy Node is the only leaf, return 0\n",
    "            return 0\n",
    "        return 1\n",
    "    # Recursive calls for all children\n",
    "    for child in root.children:\n",
    "        count += countLeaves(child)\n",
    "    return count\n"
   ]
  },
  {
   "cell_type": "code",
   "execution_count": 38,
   "metadata": {},
   "outputs": [],
   "source": [
    "\"\"\"\n",
    "This message just calls decode and countLeaves to return the number of ways the message can be decoded\n",
    "\"\"\"\n",
    "\n",
    "def getNumberOfEncodings(message):\n",
    "    root = decode(message)\n",
    "    print(root)\n",
    "    return countLeaves(root)"
   ]
  },
  {
   "cell_type": "code",
   "execution_count": 39,
   "metadata": {},
   "outputs": [
    {
     "name": "stdout",
     "output_type": "stream",
     "text": [
      ". 10\n",
      "\tj \n",
      "\n"
     ]
    },
    {
     "data": {
      "text/plain": [
       "1"
      ]
     },
     "execution_count": 39,
     "metadata": {},
     "output_type": "execute_result"
    }
   ],
   "source": [
    "getNumberOfEncodings(\"10\")"
   ]
  },
  {
   "cell_type": "markdown",
   "metadata": {},
   "source": [
    "### Problem 8 - Easy\n",
    "This problem was asked by Google.\n",
    "\n",
    "A unival tree (which stands for \"universal value\") is a tree where all nodes under it have the same value.\n",
    "\n",
    "Given the root to a binary tree, count the number of unival subtrees.\n",
    "\n",
    "For example, the following tree has 5 unival subtrees:\n",
    "\n",
    "## Still WIP"
   ]
  },
  {
   "cell_type": "raw",
   "metadata": {},
   "source": [
    "   0\n",
    "  / \\\n",
    " 1   0\n",
    "    / \\\n",
    "   1   0\n",
    "  / \\\n",
    " 1   1\n"
   ]
  },
  {
   "cell_type": "code",
   "execution_count": 44,
   "metadata": {},
   "outputs": [],
   "source": [
    "class Node:\n",
    "    def __init__(self,value,left=None,right=None):\n",
    "        self.value = value\n",
    "        self.left = left\n",
    "        self.right= right\n",
    "        \n",
    "tree = Node(0,Node(1),Node(0,Node(1,Node(1),Node(1)),Node(0)))"
   ]
  },
  {
   "cell_type": "code",
   "execution_count": 45,
   "metadata": {},
   "outputs": [],
   "source": [
    "numUTrees = 0\n",
    "\n",
    "\n",
    "def getCommonValue(root):\n",
    "    if root.left == None and root.right == None:\n",
    "        return root.value\n",
    "    \n",
    "    if root.left != None:\n",
    "        leftval = getCommonValue(root.left)\n",
    "        if leftval != root.value:\n",
    "            return None\n",
    "    \n",
    "    if root.right != None:\n",
    "        rightval = getCommonValue(root.right)\n",
    "        if rightval != root.value:\n",
    "            return None\n",
    "        \n",
    "    return root.value\n",
    "\n",
    "\n",
    "def countUTrees(root):\n",
    "    count = 0\n",
    "    if getCommonValue(root):\n",
    "        count += 1\n",
    "    if root.left:\n",
    "        count += countUTrees(root.left)\n",
    "    \n",
    "    if root.right:\n",
    "        count += countUTrees(root.right)\n",
    "            \n",
    "    return count\n",
    "        "
   ]
  },
  {
   "cell_type": "code",
   "execution_count": 46,
   "metadata": {},
   "outputs": [
    {
     "data": {
      "text/plain": [
       "4"
      ]
     },
     "execution_count": 46,
     "metadata": {},
     "output_type": "execute_result"
    }
   ],
   "source": [
    "countUTrees(tree)"
   ]
  },
  {
   "cell_type": "markdown",
   "metadata": {},
   "source": [
    "### Problem 9 - Hard\n",
    "This problem was asked by Airbnb.\n",
    "\n",
    "Given a list of integers, write a function that returns the largest sum of non-adjacent numbers. Numbers can be 0 or negative.\n",
    "\n",
    "For example, [2, 4, 6, 2, 5] should return 13, since we pick 2, 6, and 5. [5, 1, 1, 5] should return 10, since we pick 5 and 5.\n",
    "\n",
    "Follow-up: Can you do this in O(N) time and constant space?\n",
    "\n",
    "## WIP"
   ]
  },
  {
   "cell_type": "code",
   "execution_count": 50,
   "metadata": {},
   "outputs": [],
   "source": [
    "def func(array):\n",
    "    pass"
   ]
  },
  {
   "cell_type": "code",
   "execution_count": 51,
   "metadata": {},
   "outputs": [
    {
     "ename": "AssertionError",
     "evalue": "",
     "output_type": "error",
     "traceback": [
      "\u001b[1;31m---------------------------------------------------------------------------\u001b[0m",
      "\u001b[1;31mAssertionError\u001b[0m                            Traceback (most recent call last)",
      "\u001b[1;32m<ipython-input-51-d7b85e62bda5>\u001b[0m in \u001b[0;36m<module>\u001b[1;34m()\u001b[0m\n\u001b[1;32m----> 1\u001b[1;33m \u001b[1;32massert\u001b[0m\u001b[1;33m(\u001b[0m\u001b[0mfunc\u001b[0m\u001b[1;33m(\u001b[0m\u001b[1;33m[\u001b[0m\u001b[1;36m2\u001b[0m\u001b[1;33m,\u001b[0m \u001b[1;36m4\u001b[0m\u001b[1;33m,\u001b[0m \u001b[1;36m6\u001b[0m\u001b[1;33m,\u001b[0m \u001b[1;36m2\u001b[0m\u001b[1;33m,\u001b[0m \u001b[1;36m5\u001b[0m\u001b[1;33m]\u001b[0m\u001b[1;33m)\u001b[0m\u001b[1;33m==\u001b[0m\u001b[1;36m13\u001b[0m\u001b[1;33m)\u001b[0m\u001b[1;33m\u001b[0m\u001b[0m\n\u001b[0m\u001b[0;32m      2\u001b[0m \u001b[1;32massert\u001b[0m\u001b[1;33m(\u001b[0m\u001b[0mfunc\u001b[0m\u001b[1;33m(\u001b[0m\u001b[1;33m[\u001b[0m\u001b[1;36m5\u001b[0m\u001b[1;33m,\u001b[0m \u001b[1;36m1\u001b[0m\u001b[1;33m,\u001b[0m \u001b[1;36m1\u001b[0m\u001b[1;33m,\u001b[0m \u001b[1;36m5\u001b[0m\u001b[1;33m]\u001b[0m\u001b[1;33m)\u001b[0m\u001b[1;33m==\u001b[0m\u001b[1;36m10\u001b[0m\u001b[1;33m)\u001b[0m\u001b[1;33m\u001b[0m\u001b[0m\n",
      "\u001b[1;31mAssertionError\u001b[0m: "
     ]
    }
   ],
   "source": [
    "assert(func([2, 4, 6, 2, 5])==13)\n",
    "assert(func([5, 1, 1, 5])==10)"
   ]
  },
  {
   "cell_type": "markdown",
   "metadata": {},
   "source": [
    "### Problem 10 - Medium\n",
    "This problem was asked by Apple.\n",
    "\n",
    "Implement a job scheduler which takes in a function f and an integer n, and calls f after n milliseconds."
   ]
  },
  {
   "cell_type": "code",
   "execution_count": 55,
   "metadata": {},
   "outputs": [],
   "source": [
    "import time\n",
    "import _thread\n",
    "\n",
    "getCurrentMillis = lambda : int(round(time.time() * 1000))\n",
    "\n",
    "def callAfterMillis(function,millis):\n",
    "    start = getCurrentMillis()\n",
    "    while getCurrentMillis()-start < millis:\n",
    "        pass\n",
    "    function()\n",
    "\n",
    "def scheduleJob(function, millis):\n",
    "    _thread.start_new_thread(lambda : callAfterMillis(function,millis),())"
   ]
  },
  {
   "cell_type": "code",
   "execution_count": 58,
   "metadata": {},
   "outputs": [
    {
     "name": "stdout",
     "output_type": "stream",
     "text": [
      "Hello\n",
      "Hello World\n"
     ]
    }
   ],
   "source": [
    "scheduleJob(lambda : print(\"Hello World\"),1000)\n",
    "print(\"Hello\")\n"
   ]
  },
  {
   "cell_type": "code",
   "execution_count": null,
   "metadata": {},
   "outputs": [],
   "source": []
  }
 ],
 "metadata": {
  "kernelspec": {
   "display_name": "Python 3",
   "language": "python",
   "name": "python3"
  },
  "language_info": {
   "codemirror_mode": {
    "name": "ipython",
    "version": 3
   },
   "file_extension": ".py",
   "mimetype": "text/x-python",
   "name": "python",
   "nbconvert_exporter": "python",
   "pygments_lexer": "ipython3",
   "version": "3.7.0"
  }
 },
 "nbformat": 4,
 "nbformat_minor": 2
}
