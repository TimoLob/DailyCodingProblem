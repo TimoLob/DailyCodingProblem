{
 "cells": [
  {
   "cell_type": "markdown",
   "metadata": {},
   "source": [
    "Good morning! Here's your coding interview problem for today.\n",
    "\n",
    "This problem was asked by Facebook.\n",
    "\n",
    "Given the mapping a = 1, b = 2, ... z = 26, and an encoded message, count the number of ways it can be decoded.\n",
    "\n",
    "For example, the message '111' would give 3, since it could be decoded as 'aaa', 'ka', and 'ak'.\n",
    "\n",
    "You can assume that the messages are decodable. For example, '001' is not allowed."
   ]
  },
  {
   "cell_type": "code",
   "execution_count": 1,
   "metadata": {},
   "outputs": [],
   "source": [
    "letters = \"abcdefghijklmnopqrstuvwxyz\""
   ]
  },
  {
   "cell_type": "markdown",
   "metadata": {},
   "source": [
    "Idea: Use a tree structure to save all possible ways of decoding the message"
   ]
  },
  {
   "cell_type": "code",
   "execution_count": 2,
   "metadata": {},
   "outputs": [],
   "source": [
    "\"\"\"\n",
    "This method returns an array of all the possible ways to decode one character from the message\n",
    "\"\"\"\n",
    "def decode1char(message):\n",
    "    possibleMessages = []\n",
    "    for i in range(1,27):\n",
    "        if message.startswith(str(i)):\n",
    "            possibleMessages.append([letters[i-1],message.replace(str(i),\"\",1)])\n",
    "            \n",
    "    return possibleMessages"
   ]
  },
  {
   "cell_type": "code",
   "execution_count": 3,
   "metadata": {},
   "outputs": [],
   "source": [
    "\"\"\"\n",
    "A nood class that helps us build the tree that stores the messages\n",
    "\"\"\"\n",
    "\n",
    "class Node:\n",
    "    def __init__(self,letter,message):\n",
    "        self.letter = letter\n",
    "        self.message = message\n",
    "        self.children = []\n",
    "        \n",
    "    def __repr__(self):\n",
    "        \n",
    "        return self.treeToString(1)\n",
    "    \n",
    "    \n",
    "    def treeToString(self,indent):\n",
    "        string = self.letter + \" \" +self.message +\"\\n\"\n",
    "        for child in self.children:\n",
    "            string += \"\\t\"*indent+child.treeToString(indent+1)\n",
    "        return string"
   ]
  },
  {
   "cell_type": "code",
   "execution_count": 4,
   "metadata": {},
   "outputs": [],
   "source": [
    "\"\"\"\n",
    "This method generates a dummy root node and calls generate Children to generate all the possible ways to decode the message\n",
    "\"\"\"\n",
    "\n",
    "def decode(message):\n",
    "    root = Node(\".\",message)\n",
    "    generateChildren(root)\n",
    "    return root\n",
    "    "
   ]
  },
  {
   "cell_type": "code",
   "execution_count": 12,
   "metadata": {},
   "outputs": [],
   "source": [
    "\"\"\"\n",
    "This method generates all possible ways to decode the message character by character and puts them in a tree\n",
    "\"\"\"\n",
    "\n",
    "def generateChildren(root):\n",
    "    if len(root.message)>0:\n",
    "        children = decode1char(root.message)\n",
    "        for child in children:\n",
    "            childNode = Node(child[0],child[1])\n",
    "            root.children.append(childNode)\n",
    "            generateChildren(childNode)"
   ]
  },
  {
   "cell_type": "code",
   "execution_count": 17,
   "metadata": {},
   "outputs": [],
   "source": [
    "\"\"\"\n",
    "The number of leaves in the tree is equal to the number of ways the message can be decoded\n",
    "\"\"\"\n",
    "\n",
    "def countLeaves(root):\n",
    "    count = 0\n",
    "    if len(root.children)==0:  # Check if this node is a leaf\n",
    "        if root.letter == \".\":  # If the dummy Node is the only leaf, return 0\n",
    "            return 0\n",
    "        return 1\n",
    "    # Recursive calls for all children\n",
    "    for child in root.children:\n",
    "        count += countLeaves(child)\n",
    "    return count\n"
   ]
  },
  {
   "cell_type": "code",
   "execution_count": 18,
   "metadata": {},
   "outputs": [],
   "source": [
    "\"\"\"\n",
    "This message just calls decode and countLeaves to return the number of ways the message can be decoded\n",
    "\"\"\"\n",
    "\n",
    "def getNumberOfEncodings(message):\n",
    "    root = decode(message)\n",
    "    print(root)\n",
    "    return countLeaves(root)"
   ]
  },
  {
   "cell_type": "code",
   "execution_count": 19,
   "metadata": {},
   "outputs": [
    {
     "name": "stdout",
     "output_type": "stream",
     "text": [
      ". 001\n",
      "\n"
     ]
    },
    {
     "data": {
      "text/plain": [
       "0"
      ]
     },
     "execution_count": 19,
     "metadata": {},
     "output_type": "execute_result"
    }
   ],
   "source": [
    "getNumberOfEncodings(\"001\")"
   ]
  },
  {
   "cell_type": "code",
   "execution_count": null,
   "metadata": {},
   "outputs": [],
   "source": []
  }
 ],
 "metadata": {
  "kernelspec": {
   "display_name": "Python 3",
   "language": "python",
   "name": "python3"
  },
  "language_info": {
   "codemirror_mode": {
    "name": "ipython",
    "version": 3
   },
   "file_extension": ".py",
   "mimetype": "text/x-python",
   "name": "python",
   "nbconvert_exporter": "python",
   "pygments_lexer": "ipython3",
   "version": "3.7.0"
  }
 },
 "nbformat": 4,
 "nbformat_minor": 2
}
