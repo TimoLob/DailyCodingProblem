{
 "cells": [
  {
   "cell_type": "markdown",
   "metadata": {},
   "source": [
    "This problem was asked by Google.\n",
    "\n",
    "Given a singly linked list and an integer k, remove the kth last element from the list. k is guaranteed to be smaller than the length of the list.\n",
    "\n",
    "The list is very long, so making more than one pass is prohibitively expensive.\n",
    "\n",
    "Do this in constant space and in one pass."
   ]
  },
  {
   "cell_type": "code",
   "execution_count": 8,
   "metadata": {},
   "outputs": [],
   "source": [
    "class Node:\n",
    "    def __init__(self,value):\n",
    "        self.value = value\n",
    "        self.next = None\n",
    "    \n",
    "    def append(self,value):\n",
    "        if self.next == None:\n",
    "            self.next = Node(value)\n",
    "        else:\n",
    "            self.next.append(value)\n",
    "            \n",
    "    def __repr__(self):\n",
    "        if self.next:\n",
    "            return str(self.value) +\",\"+ str(self.next)\n",
    "        else:\n",
    "            return str(self.value)"
   ]
  },
  {
   "cell_type": "code",
   "execution_count": 21,
   "metadata": {},
   "outputs": [
    {
     "name": "stdout",
     "output_type": "stream",
     "text": [
      "1,2,3,4,5,6,7,8,9,10\n"
     ]
    }
   ],
   "source": [
    "singlyList = Node(1)\n",
    "for i in range(2,11):\n",
    "    singlyList.append(i)\n",
    "    \n",
    "print(singlyList)"
   ]
  },
  {
   "cell_type": "code",
   "execution_count": 22,
   "metadata": {},
   "outputs": [],
   "source": [
    "def removeLastkth(first,k):\n",
    "    ptr = first\n",
    "    for _ in range(k):\n",
    "        ptr = ptr.next\n",
    "        \n",
    "    lastkth = first\n",
    "    prev = None\n",
    "    \n",
    "    while ptr!=None:\n",
    "        ptr = ptr.next\n",
    "        prev = lastkth\n",
    "        lastkth = lastkth.next\n",
    "        \n",
    "    print(ptr,lastkth.value,prev.value)\n",
    "    \n",
    "    if prev!=None:\n",
    "        prev.next = lastkth.next\n",
    "    "
   ]
  },
  {
   "cell_type": "code",
   "execution_count": 23,
   "metadata": {},
   "outputs": [
    {
     "name": "stdout",
     "output_type": "stream",
     "text": [
      "None 8 7\n",
      "1,2,3,4,5,6,7,9,10\n"
     ]
    }
   ],
   "source": [
    "removeLastkth(singlyList,3)\n",
    "print(singlyList)"
   ]
  },
  {
   "cell_type": "code",
   "execution_count": null,
   "metadata": {},
   "outputs": [],
   "source": []
  }
 ],
 "metadata": {
  "kernelspec": {
   "display_name": "Python 3",
   "language": "python",
   "name": "python3"
  },
  "language_info": {
   "codemirror_mode": {
    "name": "ipython",
    "version": 3
   },
   "file_extension": ".py",
   "mimetype": "text/x-python",
   "name": "python",
   "nbconvert_exporter": "python",
   "pygments_lexer": "ipython3",
   "version": "3.7.0"
  }
 },
 "nbformat": 4,
 "nbformat_minor": 2
}
