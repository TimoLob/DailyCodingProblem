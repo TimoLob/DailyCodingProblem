{
 "cells": [
  {
   "cell_type": "markdown",
   "metadata": {},
   "source": [
    "Good morning! Here's your coding interview problem for today.\n",
    "\n",
    "This problem was asked by Uber.\n",
    "\n",
    "Given an array of integers, return a new array such that each element at index i of the new array is the product of all the numbers in the original array except the one at i.\n",
    "\n",
    "For example, if our input was [1, 2, 3, 4, 5], the expected output would be [120, 60, 40, 30, 24]. If our input was [3, 2, 1], the expected output would be [2, 3, 6].\n",
    "\n",
    "Follow-up: what if you can't use division?"
   ]
  },
  {
   "cell_type": "markdown",
   "metadata": {},
   "source": [
    "### With Division\n",
    "1. Calculate the Product of all the elements in the array\n",
    "2. Divide that product by each element in the array\n",
    "\n",
    "Runtime: O(n), we need to iterate through the array 2 times"
   ]
  },
  {
   "cell_type": "code",
   "execution_count": 13,
   "metadata": {},
   "outputs": [
    {
     "name": "stdout",
     "output_type": "stream",
     "text": [
      "[120.0, 60.0, 40.0, 30.0, 24.0]\n",
      "[2.0, 3.0, 6.0]\n"
     ]
    }
   ],
   "source": [
    "import functools\n",
    "\n",
    "def func(array):\n",
    "    product = functools.reduce(lambda x,y : x*y,array)\n",
    "    return [product/x for x in array]\n",
    "\n",
    "print(func([1, 2, 3, 4, 5]))\n",
    "print(func([3,2,1]))"
   ]
  },
  {
   "cell_type": "markdown",
   "metadata": {},
   "source": [
    "### Without Division\n",
    "Iterate through the array and multiply it with every element in the products array(except the one at the same index)  \n",
    "Runtime: O(n^2)"
   ]
  },
  {
   "cell_type": "code",
   "execution_count": 18,
   "metadata": {},
   "outputs": [
    {
     "data": {
      "text/plain": [
       "[120, 60, 40, 30, 24]"
      ]
     },
     "execution_count": 18,
     "metadata": {},
     "output_type": "execute_result"
    }
   ],
   "source": [
    "def func(array):\n",
    "    products = [1]*len(array)\n",
    "    for i,x in enumerate(array):\n",
    "        for j,p in enumerate(products):\n",
    "            if i!=j:\n",
    "                products[j]=p*x\n",
    "    return products\n",
    "        \n",
    "func([1, 2, 3, 4, 5])"
   ]
  },
  {
   "cell_type": "markdown",
   "metadata": {},
   "source": [
    "Better Solution in O(n):  \n",
    "https://www.geeksforgeeks.org/a-product-array-puzzle/\n"
   ]
  }
 ],
 "metadata": {
  "kernelspec": {
   "display_name": "Python 3",
   "language": "python",
   "name": "python3"
  },
  "language_info": {
   "codemirror_mode": {
    "name": "ipython",
    "version": 3
   },
   "file_extension": ".py",
   "mimetype": "text/x-python",
   "name": "python",
   "nbconvert_exporter": "python",
   "pygments_lexer": "ipython3",
   "version": "3.7.0"
  }
 },
 "nbformat": 4,
 "nbformat_minor": 2
}
