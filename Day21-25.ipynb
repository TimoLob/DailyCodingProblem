{
 "cells": [
  {
   "cell_type": "markdown",
   "metadata": {},
   "source": [
    "### Problem 21 - Easy\n",
    "This problem was asked by Snapchat.\n",
    "\n",
    "Given an array of time intervals (start, end) for classroom lectures (possibly overlapping), find the minimum number of rooms required.\n",
    "\n",
    "For example, given [(30, 75), (0, 50), (60, 150)], you should return 2."
   ]
  },
  {
   "cell_type": "code",
   "execution_count": 9,
   "metadata": {},
   "outputs": [],
   "source": [
    "def func(array):\n",
    "    maxoverlaps = 0\n",
    "    for i in range(len(array)):\n",
    "        overlaps = 0\n",
    "        for j in range(len(array)):\n",
    "            if i==j:\n",
    "                continue\n",
    "            \n",
    "            s1,e1 = array[i]\n",
    "            s2,e2 = array[j]\n",
    "            if not(e1 < s2 or e2 < s1):\n",
    "                overlaps+=1\n",
    "                \n",
    "        maxoverlaps = max(maxoverlaps,overlaps)\n",
    "        \n",
    "    return maxoverlaps\n",
    " "
   ]
  },
  {
   "cell_type": "code",
   "execution_count": 11,
   "metadata": {},
   "outputs": [],
   "source": [
    "assert(func( [(30, 75), (0, 50), (60, 150)])==2)"
   ]
  },
  {
   "cell_type": "code",
   "execution_count": null,
   "metadata": {},
   "outputs": [],
   "source": []
  }
 ],
 "metadata": {
  "kernelspec": {
   "display_name": "Python 3",
   "language": "python",
   "name": "python3"
  },
  "language_info": {
   "codemirror_mode": {
    "name": "ipython",
    "version": 3
   },
   "file_extension": ".py",
   "mimetype": "text/x-python",
   "name": "python",
   "nbconvert_exporter": "python",
   "pygments_lexer": "ipython3",
   "version": "3.7.0"
  }
 },
 "nbformat": 4,
 "nbformat_minor": 2
}
