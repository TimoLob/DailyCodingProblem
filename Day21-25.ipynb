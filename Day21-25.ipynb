{
 "cells": [
  {
   "cell_type": "markdown",
   "metadata": {},
   "source": [
    "### Problem 21 - Easy\n",
    "This problem was asked by Snapchat.\n",
    "\n",
    "Given an array of time intervals (start, end) for classroom lectures (possibly overlapping), find the minimum number of rooms required.\n",
    "\n",
    "For example, given [(30, 75), (0, 50), (60, 150)], you should return 2."
   ]
  },
  {
   "cell_type": "code",
   "execution_count": 9,
   "metadata": {},
   "outputs": [],
   "source": [
    "def func(array):\n",
    "    maxoverlaps = 0\n",
    "    for i in range(len(array)):\n",
    "        overlaps = 0\n",
    "        for j in range(len(array)):\n",
    "            if i==j:\n",
    "                continue\n",
    "            \n",
    "            s1,e1 = array[i]\n",
    "            s2,e2 = array[j]\n",
    "            if not(e1 < s2 or e2 < s1):\n",
    "                overlaps+=1\n",
    "                \n",
    "        maxoverlaps = max(maxoverlaps,overlaps)\n",
    "        \n",
    "    return maxoverlaps\n",
    " "
   ]
  },
  {
   "cell_type": "code",
   "execution_count": 11,
   "metadata": {},
   "outputs": [],
   "source": [
    "assert(func( [(30, 75), (0, 50), (60, 150)])==2)"
   ]
  },
  {
   "cell_type": "markdown",
   "metadata": {},
   "source": [
    "### Problem 22 - Easy\n",
    "This problem was asked by Google.\n",
    "\n",
    "You are given an M by N matrix consisting of booleans that represents a board. Each True boolean represents a wall. Each False boolean represents a tile you can walk on.\n",
    "\n",
    "Given this matrix, a start coordinate, and an end coordinate, return the minimum number of steps required to reach the end coordinate from the start. If there is no possible path, then return null. You can move up, left, down, and right. You cannot move through walls. You cannot wrap around the edges of the board.\n",
    "\n",
    "For example, given the following board:"
   ]
  },
  {
   "cell_type": "code",
   "execution_count": 4,
   "metadata": {},
   "outputs": [],
   "source": [
    "f = False\n",
    "t = True\n",
    "\n",
    "board = [[f, f, f, f],\n",
    "        [t, t, f, t],\n",
    "        [f, f, f, f],\n",
    "        [f, f, f, f]]"
   ]
  },
  {
   "cell_type": "markdown",
   "metadata": {},
   "source": [
    "and start = (3, 0) (bottom left) and end = (0, 0) (top left), the minimum number of steps required to reach the end is 7, since we would need to go through (1, 2) because there is a wall everywhere else on the second row."
   ]
  },
  {
   "cell_type": "code",
   "execution_count": 29,
   "metadata": {},
   "outputs": [],
   "source": [
    "def func(board,x,y,ex,ey,steps):\n",
    "    if x==ex and y == ey:\n",
    "        return steps\n",
    "    \n",
    "    moveSet = [[-1,0],[1,0],[0,-1],[0,1]]\n",
    "    \n",
    "    board[x][y] = 1\n",
    "    \n",
    "    possibleSteps = []\n",
    "    \n",
    "    for move in moveSet:\n",
    "        tx = x+move[0]\n",
    "        ty = y+move[1]\n",
    "        #print(tx,len(board[0]),ty)\n",
    "        if tx<0 or tx >= len(board[0]) or ty<0 or ty>=len(board):\n",
    "            continue\n",
    "            \n",
    "        if board[tx][ty]==1:\n",
    "            continue\n",
    "            \n",
    "        step = func(board,tx,ty,ex,ey,steps+1)\n",
    "        \n",
    "        if step!=None:\n",
    "            possibleSteps.append(step)\n",
    "            \n",
    "    board[x][y] = 0\n",
    "\n",
    "    if len(possibleSteps)==0:\n",
    "        return None\n",
    "    return min(possibleSteps)\n",
    "        \n",
    "    \n",
    "def numSteps(board,start,end):\n",
    "    board2 = []\n",
    "    for line in board:\n",
    "        line2 = []\n",
    "        for x in line:\n",
    "            if x==True:\n",
    "                line2.append(1)\n",
    "            else:\n",
    "                line2.append(0)\n",
    "        board2.append(line2)\n",
    "    return func(board2,start[0],start[1],end[0],end[1],0)\n",
    "    "
   ]
  },
  {
   "cell_type": "code",
   "execution_count": 30,
   "metadata": {},
   "outputs": [],
   "source": [
    "assert(numSteps(board,(3,0),(0,0))==7)"
   ]
  },
  {
   "cell_type": "markdown",
   "metadata": {},
   "source": [
    "### Problem 24 - Medium\n",
    "This problem was asked by Google.\n",
    "\n",
    "Implement locking in a binary tree. A binary tree node can be locked or unlocked only if all of its descendants or ancestors are not locked.\n",
    "\n",
    "Design a binary tree node class with the following methods:\n",
    "\n",
    "    is_locked, which returns whether the node is locked\n",
    "    lock, which attempts to lock the node. If it cannot be locked, then it should return false. Otherwise, it should lock it and return true.\n",
    "    unlock, which unlocks the node. If it cannot be unlocked, then it should return false. Otherwise, it should unlock it and return true.\n",
    "\n",
    "You may augment the node to add parent pointers or any other property you would like. You may assume the class is used in a single-threaded program, so there is no need for actual locks or mutexes. Each method should run in O(h), where h is the height of the tree."
   ]
  },
  {
   "cell_type": "code",
   "execution_count": 32,
   "metadata": {},
   "outputs": [],
   "source": [
    "class Node:\n",
    "    def __init__(self,val,left=None,right=None):\n",
    "        self.value = val\n",
    "        self.left = left\n",
    "        if self.left:\n",
    "            left.parent = self\n",
    "        self.right = right\n",
    "        if self.right:\n",
    "            right.parent = self\n",
    "        self.locked = False\n",
    "        self.parent = None\n",
    "        \n",
    "    def __repr__(self):\n",
    "        return str(self.value)\n",
    "        \n",
    "    def is_locked(self):\n",
    "        return self.locked\n",
    "    \n",
    "    def canLock(self):\n",
    "        stack = [self]\n",
    "        while len(stack)>0:\n",
    "            current = stack.pop()\n",
    "            if current.is_locked():\n",
    "                return False\n",
    "            if current.left:\n",
    "                stack.append(current.left)\n",
    "            if current.right:\n",
    "                stack.append(current.right)\n",
    "        return True\n",
    "    \n",
    "    def lock(self):\n",
    "        if self.canLock():\n",
    "            self.locked = True \n",
    "            return True\n",
    "        return False\n",
    "        \n",
    "    \n",
    "    def unlock(self):\n",
    "        leftCanLock = self.left==None or self.left.canLock()\n",
    "        rightCanLock = self.right == None or self.right.canLock()\n",
    "        if leftCanLock and rightCanLock:\n",
    "            self.locked = False \n",
    "            return True\n",
    "        return False\n",
    "        \n",
    "        \n",
    "        "
   ]
  },
  {
   "cell_type": "code",
   "execution_count": 37,
   "metadata": {},
   "outputs": [
    {
     "name": "stdout",
     "output_type": "stream",
     "text": [
      "True\n",
      "True\n",
      "True\n",
      "False\n"
     ]
    }
   ],
   "source": [
    "tree = Node(\"root\",Node(\"left\"),Node(\"Right\"))\n",
    "print(tree.lock())\n",
    "print(tree.locked)\n",
    "print(tree.unlock())\n",
    "print(tree.locked)\n"
   ]
  },
  {
   "cell_type": "markdown",
   "metadata": {},
   "source": [
    "### Problem 25 - Hard\n",
    "This problem was asked by Facebook.\n",
    "\n",
    "Implement regular expression matching with the following special characters:\n",
    "\n",
    "    . (period) which matches any single character\n",
    "    * (asterisk) which matches zero or more of the preceding element\n",
    "\n",
    "That is, implement a function that takes in a string and a valid regular expression and returns whether or not the string matches the regular expression.\n",
    "\n",
    "For example, given the regular expression \"ra.\" and the string \"ray\", your function should return true. The same regular expression on the string \"raymond\" should return false.\n",
    "\n",
    "Given the regular expression \".*at\" and the string \"chat\", your function should return true. The same regular expression on the string \"chats\" should return false."
   ]
  },
  {
   "cell_type": "code",
   "execution_count": 51,
   "metadata": {},
   "outputs": [],
   "source": [
    "def regExMatch(string,regex):\n",
    "    #print(string,regex)\n",
    "    for i,regChar in enumerate(regex):\n",
    "        \n",
    "        \n",
    "        if len(string)==0: # If the string is empty, but there is still regex left thats not * return false\n",
    "            if not regChar==\"*\":\n",
    "                return False\n",
    "            \n",
    "        elif regChar == \".\":  # . = Pass one character\n",
    "            pass\n",
    "        \n",
    "        elif regChar == \"*\":  # Match the remaining regex against all possible string from 0-n as * \n",
    "            for j in range(len(string)):\n",
    "                if regExMatch(string[j:],regex[i+1:]):\n",
    "                    return True\n",
    "                \n",
    "            return False\n",
    "        \n",
    "        elif string[0]!=regChar: # If the character does not match, return False\n",
    "                return False\n",
    "            \n",
    "        # Remove the first character from the string\n",
    "        string = string[1:]\n",
    "    \n",
    "    if len(string)>0: # If there is string remaining after evaluating the regex return false\n",
    "        return False\n",
    "    \n",
    "    return True"
   ]
  },
  {
   "cell_type": "code",
   "execution_count": 52,
   "metadata": {},
   "outputs": [],
   "source": [
    "assert(regExMatch(\"ray\",\"ra.\")==True)\n",
    "assert(regExMatch(\"raymond\",\"ra.\")==False)"
   ]
  },
  {
   "cell_type": "code",
   "execution_count": 53,
   "metadata": {},
   "outputs": [],
   "source": [
    "assert(regExMatch(\"chat\",\"*.at\"))"
   ]
  },
  {
   "cell_type": "code",
   "execution_count": 54,
   "metadata": {},
   "outputs": [],
   "source": [
    "assert(regExMatch(\"chats\",\"*.at\")==False)"
   ]
  },
  {
   "cell_type": "code",
   "execution_count": null,
   "metadata": {},
   "outputs": [],
   "source": []
  },
  {
   "cell_type": "code",
   "execution_count": null,
   "metadata": {},
   "outputs": [],
   "source": []
  }
 ],
 "metadata": {
  "kernelspec": {
   "display_name": "Python 3",
   "language": "python",
   "name": "python3"
  },
  "language_info": {
   "codemirror_mode": {
    "name": "ipython",
    "version": 3
   },
   "file_extension": ".py",
   "mimetype": "text/x-python",
   "name": "python",
   "nbconvert_exporter": "python",
   "pygments_lexer": "ipython3",
   "version": "3.7.0"
  }
 },
 "nbformat": 4,
 "nbformat_minor": 2
}
