{
 "cells": [
  {
   "cell_type": "markdown",
   "metadata": {},
   "source": [
    "### Problem 11 - Medium\n",
    "This problem was asked by Twitter.\n",
    "\n",
    "Implement an autocomplete system. That is, given a query string s and a set of all possible query strings, return all strings in the set that have s as a prefix.\n",
    "\n",
    "For example, given the query string de and the set of strings [dog, deer, deal], return [deer, deal].\n",
    "\n",
    "Hint: Try preprocessing the dictionary into a more efficient data structure to speed up queries."
   ]
  },
  {
   "cell_type": "markdown",
   "metadata": {},
   "source": [
    "# TODO"
   ]
  },
  {
   "cell_type": "markdown",
   "metadata": {},
   "source": [
    "### Problem 12 - Medium\n",
    "This problem was asked by Amazon.\n",
    "\n",
    "There exists a staircase with N steps, and you can climb up either 1 or 2 steps at a time. Given N, write a function that returns the number of unique ways you can climb the staircase. The order of the steps matters.\n",
    "\n",
    "For example, if N is 4, then there are 5 unique ways:\n",
    "\n",
    "    1, 1, 1, 1\n",
    "    2, 1, 1\n",
    "    1, 2, 1\n",
    "    1, 1, 2\n",
    "    2, 2\n",
    "\n",
    "What if, instead of being able to climb 1 or 2 steps at a time, you could climb any number from a set of positive integers X? For example, if X = {1, 3, 5}, you could climb 1, 3, or 5 steps at a time."
   ]
  },
  {
   "cell_type": "code",
   "execution_count": 27,
   "metadata": {},
   "outputs": [],
   "source": [
    "def climbLadder(n,X):\n",
    "    if n<0:\n",
    "        return 0\n",
    "    if n==0:\n",
    "        return 1\n",
    "    num = 0\n",
    "    for x in X:\n",
    "        num += climbLadder(n-x,X)\n",
    "        \n",
    "    return num\n",
    "\n",
    "assert(climbLadder(4,[1,2])==5)"
   ]
  },
  {
   "cell_type": "code",
   "execution_count": 28,
   "metadata": {},
   "outputs": [
    {
     "data": {
      "text/plain": [
       "47"
      ]
     },
     "execution_count": 28,
     "metadata": {},
     "output_type": "execute_result"
    }
   ],
   "source": [
    "climbLadder(10,[1,3,5])"
   ]
  },
  {
   "cell_type": "markdown",
   "metadata": {},
   "source": [
    "To improve runtime, the results should be cashed and not calculated twice."
   ]
  },
  {
   "cell_type": "markdown",
   "metadata": {},
   "source": [
    "### Problem 13 - Hard\n",
    "Good morning! Here's your coding interview problem for today.\n",
    "\n",
    "This problem was asked by Amazon.\n",
    "\n",
    "Given an integer k and a string s, find the length of the longest substring that contains at most k distinct characters.\n",
    "\n",
    "For example, given s = \"abcba\" and k = 2, the longest substring with k distinct characters is \"bcb\"."
   ]
  },
  {
   "cell_type": "code",
   "execution_count": 30,
   "metadata": {},
   "outputs": [],
   "source": [
    "def func(string,k):\n",
    "    substrings = []\n",
    "    for i in range(len(string)):\n",
    "        characters = set()\n",
    "        for j in range(i,len(string)):\n",
    "            characters.add(string[j])\n",
    "            #print(i,j,string[i:j+1],characters)\n",
    "            if len(characters)>k:\n",
    "                substrings.append(string[i:j])\n",
    "                break\n",
    "                \n",
    "    maxLen = len(substrings[0])\n",
    "    maxIndex = 0\n",
    "    for i in range(1,len(substrings)):\n",
    "        if len(substrings[i])>maxLen:\n",
    "            maxLen = len(substrings[i])\n",
    "            maxIndex = i\n",
    "    return substrings[maxIndex]"
   ]
  },
  {
   "cell_type": "code",
   "execution_count": 31,
   "metadata": {},
   "outputs": [],
   "source": [
    "assert(func(\"abcba\",2)==\"bcb\")"
   ]
  },
  {
   "cell_type": "markdown",
   "metadata": {},
   "source": [
    "### Problem 14 - Medium\n",
    "Good morning! Here's your coding interview problem for today.\n",
    "\n",
    "This problem was asked by Google.\n",
    "\n",
    "The area of a circle is defined as πr^2. Estimate π to 3 decimal places using a Monte Carlo method.\n",
    "\n",
    "Hint: The basic equation of a circle is x2 + y2 = r2."
   ]
  },
  {
   "cell_type": "markdown",
   "metadata": {},
   "source": [
    "Monte Carlo Method:  \n",
    "Randomly throw darts at a square.   \n",
    "Inside that square is a circle with Radius R.\n",
    "\n",
    "pi is approx. 4*Hits inside circle/Darts thrown"
   ]
  },
  {
   "cell_type": "code",
   "execution_count": 35,
   "metadata": {},
   "outputs": [
    {
     "name": "stdout",
     "output_type": "stream",
     "text": [
      "3.1408024\n"
     ]
    }
   ],
   "source": [
    "import random\n",
    "radius = 1\n",
    "darts = 5000000 # Darts to throw\n",
    "hits = 0 # Hits inside the circle\n",
    "radius2 = radius*radius # radius squared\n",
    "\n",
    "for i in range(darts):\n",
    "    x = random.random()\n",
    "    y = random.random()\n",
    "    if x*x+y*y < radius2:\n",
    "        hits+=1\n",
    "    \n",
    "pi = 4*hits/darts\n",
    "print(pi)"
   ]
  },
  {
   "cell_type": "markdown",
   "metadata": {},
   "source": [
    "### Problem 15 - Medium\n",
    "Good morning! Here's your coding interview problem for today.\n",
    "\n",
    "This problem was asked by Facebook.\n",
    "\n",
    "Given a stream of elements too large to store in memory, pick a random element from the stream with uniform probability."
   ]
  },
  {
   "cell_type": "code",
   "execution_count": 20,
   "metadata": {},
   "outputs": [],
   "source": [
    "# Reservoir Sampling with k = 1\n",
    "\n",
    "import random\n",
    "def sample(stream):\n",
    "    elem = stream.getNext()\n",
    "    \n",
    "    index = 1\n",
    "    while(stream.hasNext()):\n",
    "        j = random.randint(0,index)\n",
    "        \n",
    "        if j == 0:\n",
    "            elem = stream.getNext()\n",
    "        else:\n",
    "            stream.getNext()\n",
    "            \n",
    "        index+=1\n",
    "        \n",
    "    return elem"
   ]
  },
  {
   "cell_type": "code",
   "execution_count": 21,
   "metadata": {},
   "outputs": [],
   "source": [
    "class Stream:\n",
    "    def __init__(self,filename):\n",
    "        with open(filename,\"r\") as infile:\n",
    "            self.lines = infile.readlines()\n",
    "        self.index = 0\n",
    "        \n",
    "    def hasNext(self):\n",
    "        return self.index < len(self.lines)\n",
    "    \n",
    "    def getNext(self):\n",
    "        if(not self.hasNext()):\n",
    "            print(\"NO NEXT ELEM\",self.index)\n",
    "        line = self.lines[self.index]\n",
    "        self.index+=1\n",
    "        return line\n",
    "    \n",
    "    def reset(self):\n",
    "        self.index = 0\n",
    "        "
   ]
  },
  {
   "cell_type": "code",
   "execution_count": 22,
   "metadata": {},
   "outputs": [],
   "source": [
    "def test():\n",
    "    # Create a dummy file with numbers 1-1000\n",
    "    with open(\"test.txt\",\"w\") as outfile:\n",
    "        for i in range(1000):\n",
    "            outfile.write(str(i)+\"\\n\")\n",
    "    \n",
    "    # Create a \"stream\" from that file\n",
    "    stream = Stream(\"test.txt\")\n",
    "    results = [0]*1000\n",
    "    # Test x samples from that sample\n",
    "    samples = 10000\n",
    "    for i in range(1000):\n",
    "        if i%10000==0:\n",
    "            print(i)\n",
    "        stream.reset()\n",
    "        j = sample(stream)\n",
    "        results[int(j)]+=1\n",
    "    # all results should be picked about equally\n",
    "    print(results)"
   ]
  },
  {
   "cell_type": "code",
   "execution_count": 37,
   "metadata": {},
   "outputs": [
    {
     "name": "stdout",
     "output_type": "stream",
     "text": [
      "43\n",
      "\n"
     ]
    }
   ],
   "source": [
    "if False:\n",
    "    test()\n",
    "\n",
    "print(sample(Stream(\"test.txt\")))"
   ]
  },
  {
   "cell_type": "code",
   "execution_count": null,
   "metadata": {},
   "outputs": [],
   "source": []
  }
 ],
 "metadata": {
  "kernelspec": {
   "display_name": "Python 3",
   "language": "python",
   "name": "python3"
  },
  "language_info": {
   "codemirror_mode": {
    "name": "ipython",
    "version": 3
   },
   "file_extension": ".py",
   "mimetype": "text/x-python",
   "name": "python",
   "nbconvert_exporter": "python",
   "pygments_lexer": "ipython3",
   "version": "3.7.0"
  }
 },
 "nbformat": 4,
 "nbformat_minor": 2
}
